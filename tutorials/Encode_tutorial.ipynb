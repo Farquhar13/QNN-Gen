{
 "cells": [
  {
   "cell_type": "markdown",
   "metadata": {},
   "source": [
    "# Encode Tutorial"
   ]
  },
  {
   "cell_type": "code",
   "execution_count": 1,
   "metadata": {},
   "outputs": [],
   "source": [
    "import qnn_gen as qg\n",
    "import numpy as np"
   ]
  },
  {
   "cell_type": "markdown",
   "metadata": {},
   "source": [
    "One important difference when considering classical ML verus quantum ML (QML) is the way that input data is encoded in to the model. For classical ML, this can be trivial, but for QML we must find a way to encode our input data into a quantum state vector. \n",
    "\n",
    "This tutorial highlights some of the classes in QNN-Gen that define a data encoding scheme and which can be found in `qnn_gen/encode.py`. "
   ]
  },
  {
   "cell_type": "markdown",
   "metadata": {},
   "source": [
    "## A common base class\n",
    "In `encode.py` you can see the abstract base class `Encode`, from which the usable classes for data encoding are derived. There are two abstract methods in `Enocde`: `circuit`, which returns the circuit corresponding to the data encoding for a particular data example; and `n_qubits`, which returns the number of encoded qubits. "
   ]
  },
  {
   "cell_type": "code",
   "execution_count": 2,
   "metadata": {},
   "outputs": [],
   "source": [
    "from abc import ABC, abstractmethod\n",
    "\n",
    "class Encode(ABC):\n",
    "    \"\"\"\n",
    "    Base class for encoding. Derived classes must overwrite the abstract methods.\n",
    "    \"\"\"\n",
    "\n",
    "    def __init__(self):\n",
    "        pass\n",
    "\n",
    "    @abstractmethod\n",
    "    def circuit(self, x):\n",
    "        pass\n",
    "\n",
    "    @abstractmethod\n",
    "    def n_qubits(self, x):\n",
    "        pass\n",
    "\n",
    "# ..."
   ]
  },
  {
   "cell_type": "markdown",
   "metadata": {},
   "source": [
    "## Encoding methods\n",
    "All of the encoding methods can be accessed with either the sytnax `qg.encode.encoding_method` or directly as`qg.encoding_method`.\n",
    "\n",
    "\n",
    "Below is the notation we'll use to describe the following encoding methods.\n",
    "\n",
    "Let:\n",
    "- $\\vec{x}$ be the input vector to encode\n",
    "- $E$ be the encoding function\n",
    "- $N$ be the number of qubits required for the encoding\n",
    "- $\\mathcal{H}$ be the Hilbert space of the qubits"
   ]
  },
  {
   "cell_type": "markdown",
   "metadata": {},
   "source": [
    "### Basis Encoding\n",
    "This method assumes a data vector with binary-valued features, $\\vec{x_i} \\in \\mathbb{Z}_2^N$. (In other words, a string of 0s and 1s). Here, $\\vec{x}$ can be viewed as a bit-string, and the basis encoding function maps it to the computational basis vector with the corresponding bit-string label. \n",
    "\n",
    "Let's take $\\vec{x} = [0, 1, 0]^T$ as an example.\n",
    "\n",
    "\\begin{equation}\n",
    "    E: \\mathbb{Z}_2^N \\rightarrow \\mathcal{H}^{2^N} \\\\\n",
    "\\end{equation}\n",
    "\\begin{equation}\n",
    "   E(\\vec{x}) = |010\\rangle\n",
    "\\end{equation}\n",
    "\n",
    "Below we show how to code this in QNN-Gen and verifiy the result using the `get_counts` function from `utility.py`."
   ]
  },
  {
   "cell_type": "code",
   "execution_count": 3,
   "metadata": {},
   "outputs": [
    {
     "name": "stdout",
     "output_type": "stream",
     "text": [
      "          \n",
      "q_0: ─────\n",
      "     ┌───┐\n",
      "q_1: ┤ X ├\n",
      "     └───┘\n",
      "q_2: ─────\n",
      "          \n",
      "{'010': 1024}\n"
     ]
    }
   ],
   "source": [
    "x = np.array([0, 1, 0])\n",
    "\n",
    "basis_encoding = qg.BasisEncoding()\n",
    "circuit = basis_encoding.circuit(x)\n",
    "\n",
    "print(circuit)\n",
    "print(qg.get_counts(circuit))"
   ]
  },
  {
   "cell_type": "markdown",
   "metadata": {},
   "source": [
    "### Angle Encoding\n",
    "Angle encoding associates each feature of $\\vec{x}$ to the state of a single qubit. We assume that the dataset is feature-normalized, so each $x_j \\in [0, 1]$. \n",
    "\n",
    "\\begin{equation}\n",
    "    E: \\mathbb{R}^N \\rightarrow \\mathcal{H}^{2^N}\n",
    "\\end{equation}\n",
    "\\begin{equation}\n",
    "    E(\\vec{x}) = \\bigotimes_{j=1}^N cos(c x_{j})|0\\rangle + sin(c x_{j})|1\\rangle.\n",
    "\\end{equation}\n",
    "\n",
    "Where $c$ is a `scaling` factor. The default value for the scaling parameter in QNN-Gen is $\\frac{\\pi}{2}$. Note that this will not induce a relative phase between the qubit's $|0\\rangle$ and $|1\\rangle$ states. \n",
    "\n",
    "There are two arguments with for `AngleEncoding` which has default values and can be overwritten by passing explict arguments:\n",
    "- `gate=Gate.RY`\n",
    "- `scaling=np.pi/2`\n",
    "\n",
    "Note that the equation given for the definition of angle encoding matches the default implementation with `RY` gates. Also note that that angles shown when printing the circuit below are scaled up by a factor of two. This is to match Qiskit's implementation of the Pauli rotation gates. \n",
    "\n",
    "References: [1], [2], [3]"
   ]
  },
  {
   "cell_type": "code",
   "execution_count": 4,
   "metadata": {},
   "outputs": [
    {
     "name": "stdout",
     "output_type": "stream",
     "text": [
      "      ┌────────────┐\n",
      "q_0: ─┤ RY(1.2164) ├\n",
      "      ├────────────┤\n",
      "q_1: ─┤ RY(2.3508) ├\n",
      "      ├────────────┤\n",
      "q_2: ─┤ RY(2.4166) ├\n",
      "     ┌┴────────────┤\n",
      "q_3: ┤ RY(0.44529) ├\n",
      "     ├─────────────┤\n",
      "q_4: ┤ RY(0.96156) ├\n",
      "     ├─────────────┤\n",
      "q_5: ┤ RY(0.61121) ├\n",
      "     └─────────────┘\n",
      "{'010100': 26, '001111': 7, '000000': 8, '001000': 1, '000011': 29, '001101': 3, '100010': 8, '010010': 12, '100110': 35, '110110': 9, '010101': 16, '100101': 2, '001110': 22, '101100': 1, '000010': 41, '010011': 6, '110111': 5, '000111': 160, '011111': 4, '110101': 1, '001010': 4, '100011': 2, '001100': 4, '010110': 106, '001011': 1, '000110': 350, '110010': 1, '000101': 29, '010111': 47, '101110': 2, '000100': 45, '011110': 2, '110100': 1, '100100': 5, '101111': 1, '000001': 7, '100111': 21}\n"
     ]
    }
   ],
   "source": [
    "x = np.random.rand(6)\n",
    "\n",
    "angle_encoder = qg.AngleEncoding()\n",
    "circuit = angle_encoder.circuit(x)\n",
    "\n",
    "print(circuit)\n",
    "print(qg.get_counts(circuit))"
   ]
  },
  {
   "cell_type": "markdown",
   "metadata": {},
   "source": [
    "It is straight-forward to change the encoding by the specifying optional arguments:"
   ]
  },
  {
   "cell_type": "code",
   "execution_count": 5,
   "metadata": {},
   "outputs": [
    {
     "name": "stdout",
     "output_type": "stream",
     "text": [
      "     ┌─────────────┐\n",
      "q_0: ┤ RX(0.77441) ├\n",
      "     └┬────────────┤\n",
      "q_1: ─┤ RX(1.4966) ├\n",
      "      ├────────────┤\n",
      "q_2: ─┤ RX(1.5384) ├\n",
      "     ┌┴────────────┤\n",
      "q_3: ┤ RX(0.28348) ├\n",
      "     ├─────────────┤\n",
      "q_4: ┤ RX(0.61215) ├\n",
      "     ├─────────────┤\n",
      "q_5: ┤ RX(0.38911) ├\n",
      "     └─────────────┘\n"
     ]
    }
   ],
   "source": [
    "angle_encoder1 = qg.AngleEncoding(gate=qg.Gate.RX, scaling=1)\n",
    "circuit1 = angle_encoder1.circuit(x)\n",
    "\n",
    "print(circuit1)"
   ]
  },
  {
   "cell_type": "markdown",
   "metadata": {},
   "source": [
    "### Dense Angle Encoding\n",
    "Dense angle encoding more efficiently uses the Hilbert space as it maps two features from $\\vec{x}$ to a single qubit. However, dense angle encoding requires depth $>1$, though it is still a constant depth method. This illustrates a common property of encoding functions, that oftentimes, efficiently utilizing the storage capacity of probability amplitudes comes at the cost of higher depth circuits.\n",
    "\n",
    "\\begin{equation}\n",
    "    E: \\mathbb{R}^N \\rightarrow \\mathcal{H}^{2^{N-1}}\n",
    "\\end{equation}\n",
    "\\begin{equation}\n",
    "    E(\\vec{x}) = \\bigotimes_{j=0}^{N/2} cos(c x_{2j}) |0\\rangle + e^{2 \\pi i x_{2j + 1}} sin(c x_{2j}) |1\\rangle.\n",
    "\\end{equation}\n",
    "\n",
    "Reference: [1]"
   ]
  },
  {
   "cell_type": "code",
   "execution_count": 6,
   "metadata": {},
   "outputs": [
    {
     "name": "stdout",
     "output_type": "stream",
     "text": [
      "     ┌─────────────┐ ┌────────────┐\n",
      "q_0: ┤ RY(0.97049) ├─┤ U1(1.4465) ├\n",
      "     ├─────────────┤ ├────────────┤\n",
      "q_1: ┤ RY(0.49639) ├─┤ U1(5.2148) ├\n",
      "     ├─────────────┤ ├────────────┤\n",
      "q_2: ┤ RY(0.59594) ├─┤ U1(5.6048) ├\n",
      "     └┬───────────┬┘ ├────────────┤\n",
      "q_3: ─┤ RY(2.331) ├──┤ U1(1.5127) ├\n",
      "      ├───────────┴┐┌┴────────────┤\n",
      "q_4: ─┤ RY(1.5228) ├┤ U1(0.09676) ├\n",
      "      └────────────┘└─────────────┘\n"
     ]
    }
   ],
   "source": [
    "x = np.random.rand(10)\n",
    "\n",
    "dense_angle_encoder = qg.DenseAngleEncoding()\n",
    "circuit = dense_angle_encoder.circuit(x)\n",
    "\n",
    "print(circuit)"
   ]
  },
  {
   "cell_type": "markdown",
   "metadata": {},
   "source": [
    "Dense angle encoding has the same default arguments as `AngleEncoding`."
   ]
  },
  {
   "cell_type": "code",
   "execution_count": 7,
   "metadata": {},
   "outputs": [
    {
     "name": "stdout",
     "output_type": "stream",
     "text": [
      "      ┌───────────┐  ┌────────────┐\n",
      "q_0: ─┤ RX(1.941) ├──┤ U1(1.4465) ├\n",
      "     ┌┴───────────┴┐ ├────────────┤\n",
      "q_1: ┤ RX(0.99279) ├─┤ U1(5.2148) ├\n",
      "     └┬────────────┤ ├────────────┤\n",
      "q_2: ─┤ RX(1.1919) ├─┤ U1(5.6048) ├\n",
      "      ├────────────┤ ├────────────┤\n",
      "q_3: ─┤ RX(4.6621) ├─┤ U1(1.5127) ├\n",
      "      ├────────────┤┌┴────────────┤\n",
      "q_4: ─┤ RX(3.0456) ├┤ U1(0.09676) ├\n",
      "      └────────────┘└─────────────┘\n"
     ]
    }
   ],
   "source": [
    "dense_angle_encoder1 = qg.DenseAngleEncoding(qg.Gate.RX, scaling=np.pi)\n",
    "circuit1 = dense_angle_encoder1.circuit(x)\n",
    "\n",
    "print(circuit1)"
   ]
  },
  {
   "cell_type": "markdown",
   "metadata": {},
   "source": [
    "### Binary Phase Encoding\n",
    "\n",
    "This method exploits the storage capacity of qubits by mapping $m = 2^N$ features to the $2^N$ probability amplitudes of an $N$-qubit state. Binary phase encoding takes a binary vector $\\vec{x} \\in \\{1, -1\\}^m$ and maps it to a quantum state with uniform-magnitude probability amplitudes and corresponding signs. For example, with $\\vec{x} = [1, -1, 1, -1]^T$ we have\n",
    "\n",
    "\\begin{equation}\n",
    "    E: \\{1, -1\\}^m \\rightarrow \\mathcal{H}^{m}\n",
    "\\end{equation}\n",
    "\\begin{equation}\n",
    "    \\label{eqn:bp}\n",
    "    E(\\vec{x}) = \\frac{1}{2} [1, -1, 1, -1]^T = |\\psi_x\\rangle,\n",
    "\\end{equation}\n",
    "\n",
    "Where $|\\psi_x\\rangle$ is the encoded quantum state.\n",
    "\n",
    "The `BinaryPhaseEncoding` was designed with the `BinaryPerceptron` `model` in mind. For this reason, it has an argument to include an ancillary qubit which defaults to `True`.\n",
    "\n",
    "Reference: [3]"
   ]
  },
  {
   "cell_type": "code",
   "execution_count": 8,
   "metadata": {},
   "outputs": [
    {
     "name": "stdout",
     "output_type": "stream",
     "text": [
      "     ┌───┐┌───┐   ┌───┐        ┌───┐   ┌───┐┌───┐   ┌───┐\n",
      "q_0: ┤ H ├┤ X ├─■─┤ X ├──────■─┤ X ├─■─┤ X ├┤ X ├─■─┤ X ├\n",
      "     ├───┤├───┤ │ ├───┤      │ ├───┤ │ ├───┤└───┘ │ └───┘\n",
      "q_1: ┤ H ├┤ X ├─■─┤ X ├──────■─┤ X ├─■─┤ X ├──────■──────\n",
      "     ├───┤├───┤ │ ├───┤┌───┐ │ ├───┤ │ └───┘      │      \n",
      "q_2: ┤ H ├┤ X ├─■─┤ X ├┤ X ├─■─┤ X ├─■────────────■──────\n",
      "     └───┘└───┘   └───┘└───┘   └───┘                     \n"
     ]
    }
   ],
   "source": [
    "x = np.array([-1, 1, 1, -1, -1, 1, -1, 1])\n",
    "\n",
    "binary_phase_encoder = qg.BinaryPhaseEncoding(ancilla=False)\n",
    "circuit = binary_phase_encoder.circuit(x)\n",
    "\n",
    "print(circuit)"
   ]
  },
  {
   "cell_type": "markdown",
   "metadata": {},
   "source": [
    "## References"
   ]
  },
  {
   "cell_type": "markdown",
   "metadata": {},
   "source": [
    "[1] LaRose, R., Coyle, B.: Robust data encodings for quantum classifiers (2020)\n",
    "  \n",
    "[2]  Stoudenmire, E., Schwab, D.J.: Supervised learning with tensor networks. In: Lee,D.D.,  Sugiyama,  M.,  Luxburg,  U.V.,  Guyon,  I.,  Garnett,  R.  (eds.)  Advances  inNeural Information Processing Systems 29, pp. 4799–4807. Curran Associates, Inc.(2016)\n",
    "\n",
    "[3] Tacchino,  F.,  Macchiavello,  C.,  Gerace,  D.,  Bajoni,  D.:  An  artificial  neuron  im-plemented on an actual quantum processor. npj Quantum Information5(1) (Mar2019)\n",
    " "
   ]
  }
 ],
 "metadata": {
  "kernelspec": {
   "display_name": "QNN-Gen",
   "language": "python",
   "name": "qnn-gen"
  },
  "language_info": {
   "codemirror_mode": {
    "name": "ipython",
    "version": 3
   },
   "file_extension": ".py",
   "mimetype": "text/x-python",
   "name": "python",
   "nbconvert_exporter": "python",
   "pygments_lexer": "ipython3",
   "version": "3.7.6"
  }
 },
 "nbformat": 4,
 "nbformat_minor": 4
}

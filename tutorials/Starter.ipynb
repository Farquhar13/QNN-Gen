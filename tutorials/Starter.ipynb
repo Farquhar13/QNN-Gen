{
 "cells": [
  {
   "cell_type": "markdown",
   "metadata": {},
   "source": [
    "# Starter Tutorial\n",
    "\n",
    "QNN-Gen is designed to serve as a clear and useful abstraction for the different components of a quantum neural network or a vartional model. Defining and creating a quantum model in QNN-Gen requires the following steps:\n",
    "\n",
    "* Define how the data is encoded into a quantum circuit.\n",
    "* Define the parameterized circuit model with trainable parameters.\n",
    "* Define how the output of the circuit is measured.\n",
    "\n",
    "QNN-Gen uses three base classes to match these concepts: `Encode`, `Model`, and `Measurement`.\n",
    "\n",
    "![caption](../images/QNN-Gen-png.png)\n",
    "\n",
    "Let's say you have some data $x$ you'd like to run through a model."
   ]
  },
  {
   "cell_type": "code",
   "execution_count": 1,
   "metadata": {},
   "outputs": [
    {
     "name": "stdout",
     "output_type": "stream",
     "text": [
      "[0.77557853 0.43238013 0.42036092 0.21322667]\n"
     ]
    }
   ],
   "source": [
    "import numpy as np\n",
    "import qnn_gen as qg\n",
    "x = np.random.random_sample(4)\n",
    "print(x)"
   ]
  },
  {
   "cell_type": "markdown",
   "metadata": {},
   "source": [
    "We can define the QNN in three lines of code."
   ]
  },
  {
   "cell_type": "code",
   "execution_count": 2,
   "metadata": {},
   "outputs": [],
   "source": [
    "encoder = qg.AngleEncoding()\n",
    "model = qg.EntangledQubit(n_qubits=encoder.n_qubits(x))\n",
    "measurement = qg.Expectation(qubits=model.measurement_qubit)"
   ]
  },
  {
   "cell_type": "markdown",
   "metadata": {},
   "source": [
    "Now we can combine the components and run the data through the model. "
   ]
  },
  {
   "cell_type": "code",
   "execution_count": 3,
   "metadata": {},
   "outputs": [
    {
     "name": "stdout",
     "output_type": "stream",
     "text": [
      "       ┌────────────┐┌──────────────┐┌─────────────┐┌──────────────┐»\n",
      " q_0: ─┤ RY(2.4366) ├┤0             ├┤0            ├┤0             ├»\n",
      "       ├────────────┤│  RXX(2.5783) ││             ││              │»\n",
      " q_1: ─┤ RY(1.3584) ├┤1             ├┤  RXX(3.153) ├┤              ├»\n",
      "       ├────────────┤└──────────────┘│             ││  RXX(5.1636) │»\n",
      " q_2: ─┤ RY(1.3206) ├────────────────┤1            ├┤              ├»\n",
      "      ┌┴────────────┤                └─────────────┘│              │»\n",
      " q_3: ┤ RY(0.66987) ├───────────────────────────────┤1             ├»\n",
      "      └─────────────┘                               └──────────────┘»\n",
      "c0_0: ══════════════════════════════════════════════════════════════»\n",
      "                                                                    »\n",
      "«      ┌─────────────┐┌──────────────┐┌──────────────┐┌─┐\n",
      "« q_0: ┤0            ├┤0             ├┤0             ├┤M├\n",
      "«      │  RZX(2.813) ││              ││              │└╥┘\n",
      "« q_1: ┤1            ├┤  RZX(2.4742) ├┤              ├─╫─\n",
      "«      └─────────────┘│              ││  RZX(1.6781) │ ║ \n",
      "« q_2: ───────────────┤1             ├┤              ├─╫─\n",
      "«                     └──────────────┘│              │ ║ \n",
      "« q_3: ───────────────────────────────┤1             ├─╫─\n",
      "«                                     └──────────────┘ ║ \n",
      "«c0_0: ════════════════════════════════════════════════╩═\n",
      "«                                                        \n"
     ]
    }
   ],
   "source": [
    "combined_circuit = qg.combine(x, encoder, model, measurement)\n",
    "print(combined_circuit)"
   ]
  },
  {
   "cell_type": "code",
   "execution_count": 4,
   "metadata": {},
   "outputs": [
    {
     "name": "stdout",
     "output_type": "stream",
     "text": [
      "[-0.04296875]\n"
     ]
    }
   ],
   "source": [
    "result = qg.run(x, encoder, model, measurement)\n",
    "print(result)"
   ]
  },
  {
   "cell_type": "markdown",
   "metadata": {},
   "source": [
    "For more information, there are specific tutorials for each of the classes `Encode`, `Model`, and `Measurement` which detail the abstraction of the base classes and show examples with specific derived classes."
   ]
  },
  {
   "cell_type": "code",
   "execution_count": null,
   "metadata": {},
   "outputs": [],
   "source": []
  }
 ],
 "metadata": {
  "kernelspec": {
   "display_name": "QNN-Gen",
   "language": "python",
   "name": "qnn-gen"
  },
  "language_info": {
   "codemirror_mode": {
    "name": "ipython",
    "version": 3
   },
   "file_extension": ".py",
   "mimetype": "text/x-python",
   "name": "python",
   "nbconvert_exporter": "python",
   "pygments_lexer": "ipython3",
   "version": "3.7.6"
  }
 },
 "nbformat": 4,
 "nbformat_minor": 4
}

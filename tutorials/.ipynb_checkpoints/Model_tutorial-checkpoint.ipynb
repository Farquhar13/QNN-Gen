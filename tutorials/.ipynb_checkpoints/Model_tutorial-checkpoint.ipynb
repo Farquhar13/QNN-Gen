{
 "cells": [
  {
   "cell_type": "markdown",
   "metadata": {},
   "source": [
    "# Model Tutorial"
   ]
  },
  {
   "cell_type": "code",
   "execution_count": 2,
   "metadata": {},
   "outputs": [],
   "source": [
    "import qnn_gen as qg\n",
    "import numpy as np"
   ]
  },
  {
   "cell_type": "markdown",
   "metadata": {},
   "source": [
    "\"Model\" is one of the most overloaded words in mathematical fields. One could consider a quantum machine learning \"model\" to mean the end-to-end processes of encoding, choice of gate architecture and parameters, measurement, post-processing, and optimization method. \n",
    "\n",
    "In QNN-Gen, the `Model` class is more restricted. The `Model` class corresponds to various achitectures of gates and ansätze with learnable parameters. Typically, these layers act on a state that has already been encoded. "
   ]
  },
  {
   "cell_type": "markdown",
   "metadata": {},
   "source": [
    "## The Model base class\n",
    "\n",
    "In `model.py` you can find the `Model` base class and serveral implemenatations which derive from the base class. You can see that the derived classes ought to have attributes for `n_qubits` and `parameters`, and must override the `circuit` function. \n",
    "\n",
    "Additionally, the derived classes can override the `default_measurement` function. It is often the case that the choice of model implies which measurements are sensible. Implementing this function allows you to combine and run circuits without explictly passing a `Measurement` object."
   ]
  },
  {
   "cell_type": "code",
   "execution_count": 42,
   "metadata": {},
   "outputs": [],
   "source": [
    "from abc import ABC, abstractmethod\n",
    "\n",
    "class Model(ABC):\n",
    "    \"\"\"\n",
    "    Class to define a QML model, whether it be a particular ansatz or a perceptron model.\n",
    "\n",
    "    Abstract class. Derived classes overwrite circuit() and may overwrite default_measuremnt().\n",
    "    Derived classes should ensure that the self.n_qubits and self.parameters attributes are updated.\n",
    "    \"\"\"\n",
    "\n",
    "    def __init__(self):\n",
    "        self.n_qubits = None\n",
    "        self.parameters = None\n",
    "\n",
    "    @abstractmethod\n",
    "    def circuit():\n",
    "        \"\"\"\n",
    "        Abstract method. Overwrite to return the circuit.\n",
    "\n",
    "        Returns:\n",
    "            - (qiskit.QuantumCircuit): The circuit defined by the model\n",
    "        \"\"\"\n",
    "        pass\n",
    "    \n",
    "    def default_measurement():\n",
    "        \"\"\"\n",
    "        Often, the model implies what measurements are sensible.\n",
    "\n",
    "        Returns:\n",
    "            - (Measurement): The default measurement for the model\n",
    "        \"\"\"\n",
    "\n",
    "        raise NotImplementedError"
   ]
  },
  {
   "cell_type": "markdown",
   "metadata": {},
   "source": [
    "Now we'll go over some of the derived classes:\n",
    "- Tree Tensor Network\n",
    "- Binary Perceptron\n",
    "- Entangled Qubit"
   ]
  },
  {
   "cell_type": "markdown",
   "metadata": {},
   "source": [
    "### Tree Tensor Network\n",
    "\n",
    "A simple way to instantiate a Tree Tensor network:"
   ]
  },
  {
   "cell_type": "code",
   "execution_count": 43,
   "metadata": {},
   "outputs": [
    {
     "name": "stdout",
     "output_type": "stream",
     "text": [
      "     ┌─────────────┐                                             \n",
      "q_0: ┤ RY(0.28935) ├──■──────────────────────────────────────────\n",
      "     └┬────────────┤┌─┴─┐ ┌────────────┐                         \n",
      "q_1: ─┤ RY(2.5025) ├┤ X ├─┤ RY(2.3083) ├──■──────────────────────\n",
      "      ├────────────┤└───┘ └────────────┘  │                      \n",
      "q_2: ─┤ RY(1.7661) ├──■───────────────────┼──────────────────────\n",
      "      ├────────────┤┌─┴─┐ ┌────────────┐┌─┴─┐┌─────────────┐     \n",
      "q_3: ─┤ RY(1.6991) ├┤ X ├─┤ RY(1.6802) ├┤ X ├┤ RY(0.99314) ├──■──\n",
      "      ├────────────┤├───┤ ├────────────┤├───┤└┬────────────┤┌─┴─┐\n",
      "q_4: ─┤ RY(1.0028) ├┤ X ├─┤ RY(2.7517) ├┤ X ├─┤ RY(1.2519) ├┤ X ├\n",
      "      ├────────────┤└─┬─┘ └────────────┘└─┬─┘ └────────────┘└───┘\n",
      "q_5: ─┤ RY(2.1347) ├──■───────────────────┼──────────────────────\n",
      "      ├────────────┤┌───┐┌─────────────┐  │                      \n",
      "q_6: ─┤ RY(1.8147) ├┤ X ├┤ RY(0.66316) ├──■──────────────────────\n",
      "      ├────────────┤└─┬─┘└─────────────┘                         \n",
      "q_7: ─┤ RY(1.5251) ├──■──────────────────────────────────────────\n",
      "      └────────────┘                                             \n",
      "[0.28935103 2.50245889 1.76612702 1.69913083 1.0028265  2.13473277\n",
      " 1.81467106 1.5251086  2.30834037 1.68018859 2.75173787 0.6631593\n",
      " 0.99314132 1.25185227]\n"
     ]
    }
   ],
   "source": [
    "ttn = qg.TreeTensorNetwork(n_qubits=8)\n",
    "ttn_circuit = ttn.circuit()\n",
    "\n",
    "print(ttn_circuit)\n",
    "print(ttn.parameters)"
   ]
  },
  {
   "cell_type": "markdown",
   "metadata": {},
   "source": [
    "If you don't pass arugments for the parameters of the rotation gates, they are randomly initialized. You may specificy them explictly using the `angles` argument:"
   ]
  },
  {
   "cell_type": "code",
   "execution_count": 44,
   "metadata": {},
   "outputs": [
    {
     "name": "stdout",
     "output_type": "stream",
     "text": [
      "     ┌───────┐                                   \n",
      "q_0: ┤ RY(1) ├──■────────────────────────────────\n",
      "     ├───────┤┌─┴─┐┌───────┐                     \n",
      "q_1: ┤ RY(2) ├┤ X ├┤ RY(9) ├───■─────────────────\n",
      "     ├───────┤└───┘└───────┘   │                 \n",
      "q_2: ┤ RY(3) ├──■──────────────┼─────────────────\n",
      "     ├───────┤┌─┴─┐┌────────┐┌─┴─┐┌────────┐     \n",
      "q_3: ┤ RY(4) ├┤ X ├┤ RY(10) ├┤ X ├┤ RY(13) ├──■──\n",
      "     ├───────┤├───┤├────────┤├───┤├────────┤┌─┴─┐\n",
      "q_4: ┤ RY(5) ├┤ X ├┤ RY(11) ├┤ X ├┤ RY(14) ├┤ X ├\n",
      "     ├───────┤└─┬─┘└────────┘└─┬─┘└────────┘└───┘\n",
      "q_5: ┤ RY(6) ├──■──────────────┼─────────────────\n",
      "     ├───────┤┌───┐┌────────┐  │                 \n",
      "q_6: ┤ RY(7) ├┤ X ├┤ RY(12) ├──■─────────────────\n",
      "     ├───────┤└─┬─┘└────────┘                    \n",
      "q_7: ┤ RY(8) ├──■────────────────────────────────\n",
      "     └───────┘                                   \n",
      "[ 1  2  3  4  5  6  7  8  9 10 11 12 13 14]\n"
     ]
    }
   ],
   "source": [
    "angles = np.arange(1, 15)\n",
    "\n",
    "ttn = qg.TreeTensorNetwork(n_qubits=8, angles=angles)\n",
    "ttn_circuit = ttn.circuit()\n",
    "\n",
    "print(ttn_circuit)\n",
    "print(ttn.parameters)"
   ]
  },
  {
   "cell_type": "markdown",
   "metadata": {},
   "source": [
    "User also may change the rotation gate and the entangling gate from their default values of `RY` and `CX`. For example, with the help of the `Gate` class in `utility.py`, a Tree Tensor Network with `RX` as the roation gate and a `CZ` as the two qubit gate:"
   ]
  },
  {
   "cell_type": "code",
   "execution_count": 46,
   "metadata": {},
   "outputs": [
    {
     "name": "stdout",
     "output_type": "stream",
     "text": [
      "     ┌───────┐                             \n",
      "q_0: ┤ RX(1) ├─■───────────────────────────\n",
      "     ├───────┤ │ ┌───────┐                 \n",
      "q_1: ┤ RX(2) ├─■─┤ RX(9) ├──■──────────────\n",
      "     ├───────┤   └───────┘  │              \n",
      "q_2: ┤ RX(3) ├─■────────────┼──────────────\n",
      "     ├───────┤ │ ┌────────┐ │ ┌────────┐   \n",
      "q_3: ┤ RX(4) ├─■─┤ RX(10) ├─■─┤ RX(13) ├─■─\n",
      "     ├───────┤   ├────────┤   ├────────┤ │ \n",
      "q_4: ┤ RX(5) ├─■─┤ RX(11) ├─■─┤ RX(14) ├─■─\n",
      "     ├───────┤ │ └────────┘ │ └────────┘   \n",
      "q_5: ┤ RX(6) ├─■────────────┼──────────────\n",
      "     ├───────┤   ┌────────┐ │              \n",
      "q_6: ┤ RX(7) ├─■─┤ RX(12) ├─■──────────────\n",
      "     ├───────┤ │ └────────┘                \n",
      "q_7: ┤ RX(8) ├─■───────────────────────────\n",
      "     └───────┘                             \n"
     ]
    }
   ],
   "source": [
    "ttn = qg.TreeTensorNetwork(n_qubits=8,\n",
    "                           angles=angles, \n",
    "                           rotation_gate=qg.Gate.RX, \n",
    "                           entangling_gate=qg.Gate.CZ)\n",
    "ttn_circuit = ttn.circuit()\n",
    "\n",
    "print(ttn_circuit)"
   ]
  },
  {
   "cell_type": "markdown",
   "metadata": {},
   "source": [
    "### Binary Perceptron"
   ]
  },
  {
   "cell_type": "markdown",
   "metadata": {},
   "source": [
    "### Entangled Qubit"
   ]
  },
  {
   "cell_type": "code",
   "execution_count": 39,
   "metadata": {},
   "outputs": [
    {
     "data": {
      "text/plain": [
       "<qiskit.circuit.library.standard_gates.z.CZGate at 0x170056b3f08>"
      ]
     },
     "execution_count": 39,
     "metadata": {},
     "output_type": "execute_result"
    }
   ],
   "source": []
  },
  {
   "cell_type": "code",
   "execution_count": null,
   "metadata": {},
   "outputs": [],
   "source": []
  }
 ],
 "metadata": {
  "kernelspec": {
   "display_name": "QNN-Gen",
   "language": "python",
   "name": "qnn-gen"
  },
  "language_info": {
   "codemirror_mode": {
    "name": "ipython",
    "version": 3
   },
   "file_extension": ".py",
   "mimetype": "text/x-python",
   "name": "python",
   "nbconvert_exporter": "python",
   "pygments_lexer": "ipython3",
   "version": "3.7.6"
  }
 },
 "nbformat": 4,
 "nbformat_minor": 2
}

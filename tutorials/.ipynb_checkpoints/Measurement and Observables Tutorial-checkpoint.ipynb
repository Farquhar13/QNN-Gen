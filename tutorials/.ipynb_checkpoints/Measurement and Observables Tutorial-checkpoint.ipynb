{
 "cells": [
  {
   "cell_type": "markdown",
   "metadata": {},
   "source": [
    "# Measurement and Observables tutorial"
   ]
  },
  {
   "cell_type": "code",
   "execution_count": 11,
   "metadata": {},
   "outputs": [],
   "source": [
    "import qnn_gen as qg\n",
    "import numpy as np\n",
    "from qiskit import QuantumCircuit"
   ]
  },
  {
   "cell_type": "markdown",
   "metadata": {},
   "source": [
    "The measurement abstraction represents the output of the quantum model. This includes the measurement of the circuit and any possible post-processing. \n",
    "\n",
    "The `Model` base class has just one abstract method, `output`, as well as several static method for convenience. The class and abstract method are shown below. "
   ]
  },
  {
   "cell_type": "code",
   "execution_count": 2,
   "metadata": {},
   "outputs": [],
   "source": [
    "from abc import ABC, abstractmethod\n",
    "\n",
    "class Measurement(ABC):\n",
    "    \"\"\"\n",
    "    Abstract class with one abstract method, output(). Derived classes must overwrite this method. This class serves\n",
    "    as the output layer. The output function takes the results of running a circuit transforms the results into the\n",
    "    final output.\n",
    "\n",
    "    To print the default Derived classes you can call Measurement.print_derived_classes().\n",
    "    \"\"\"\n",
    "\n",
    "    def __init__(self, qubits, rotate=False):\n",
    "        \"\"\"\n",
    "        Attributes:\n",
    "            - self.qubits (list or np.array): The qubits to be measured\n",
    "            - self.rotate=False (boolean): True if the measurement is performed\n",
    "            with respect to a basis other than the computational basis\n",
    "        \"\"\"\n",
    "        self.qubits = qubits\n",
    "        self.rotate = rotate\n",
    "\n",
    "    @abstractmethod\n",
    "    def output(counts):\n",
    "        \"\"\"\n",
    "        Overwrite this method in dervided classes.\n",
    "\n",
    "        Input:\n",
    "            - counts (dict): The result of running the circuit\n",
    "\n",
    "        Returns:\n",
    "            - (np.ndarray): Model output after measurement tranformations\n",
    "        \"\"\"\n",
    "        pass\n"
   ]
  },
  {
   "cell_type": "markdown",
   "metadata": {},
   "source": [
    "## Observables\n",
    "\n",
    "Before we demonstrate concrete measurement classes, let us first introduce the `Observable` class. The `Observable` class can be found in `observable.py`. In the derived measurement classes, users can perform measurements with respect to these observables.\n",
    "\n",
    "The constructor for the `Observable` class looks like this:\n",
    "\n",
    "```python\n",
    "def __init__(self, matrix, name=\"Obs\", eigenvalues=None, eigenvectors=None):\n",
    "    \"\"\"\n",
    "    Note: columns encode eigenvectors\n",
    "    \"\"\"\n",
    "```\n",
    "\n",
    "You can see that to instantiate an `Observable` object, the only required arguement is the matrix representation of the observable. \n",
    "\n",
    "For example:"
   ]
  },
  {
   "cell_type": "code",
   "execution_count": 3,
   "metadata": {},
   "outputs": [
    {
     "name": "stdout",
     "output_type": "stream",
     "text": [
      "[[ 0.92387953 -0.38268343]\n",
      " [ 0.38268343  0.92387953]]\n",
      "[ 1. -1.]\n"
     ]
    }
   ],
   "source": [
    "H =  1/np.sqrt(2) * np.array([[1, 1],\n",
    "                              [1, -1]])\n",
    "H_obs = qg.Observable(H)\n",
    "\n",
    "print(H_obs.eigenvectors)\n",
    "print(H_obs.eigenvalues)"
   ]
  },
  {
   "cell_type": "markdown",
   "metadata": {},
   "source": [
    "By passing the matrix as an argument, you can create `Observable` objects from arbitrary operators.\n",
    "\n",
    "For convenience, static methods are provided which instantiate the Puali and Hadamard observables."
   ]
  },
  {
   "cell_type": "code",
   "execution_count": 4,
   "metadata": {},
   "outputs": [],
   "source": [
    "X_obs = qg.Observable.X()\n",
    "Y_obs = qg.Observable.Y()\n",
    "Z_obs = qg.Observable.Z()\n",
    "H_obs = qg.Observable.H()"
   ]
  },
  {
   "cell_type": "markdown",
   "metadata": {},
   "source": [
    "## Derived measurment classes\n",
    "* Probability\n",
    "* Probability Threshold\n",
    "* Expectation"
   ]
  },
  {
   "cell_type": "markdown",
   "metadata": {},
   "source": [
    "### Probability\n",
    "\n",
    "```python\n",
    "def __init__(self, qubits, p_zero=True, observable=None):\n",
    "    \"\"\"\n",
    "    Attributes:\n",
    "        - qubits (int, list, np.ndarray): qubit index or list of qubit indices\n",
    "        - observable_basis (Observable): The observable corresponding the basis to measure in\n",
    "        - zero=True (Boolean): If True, output returns probabilties of qubit being measured in the |0> state.\n",
    "        If false, output returns probabilties of qubit being measured in the |1> state.\n",
    "    \"\"\"\n",
    "```\n",
    "\n",
    "To instantiate a `Probability` object, the only required arguement is `qubits`, which specifies which qubit(s) to measure."
   ]
  },
  {
   "cell_type": "code",
   "execution_count": 114,
   "metadata": {},
   "outputs": [],
   "source": [
    "prob = qg.Probability(qubits=1)"
   ]
  },
  {
   "cell_type": "markdown",
   "metadata": {},
   "source": [
    "We can use the `output()` function of the probability measurement object which will transform counts to the probability that qubit is in the $|0\\rangle$ state. Let's use the circuit below as an example. The ideal state vector that this circuit generates is \n",
    "\\begin{equation}\n",
    "\\psi = \\frac{1}{\\sqrt{2}} (|01\\rangle + |10\\rangle).\n",
    "\\end{equation}"
   ]
  },
  {
   "cell_type": "markdown",
   "metadata": {},
   "source": [
    "We can get the counts of measurement outcomes from `get_counts()`, a function from `utility.py`."
   ]
  },
  {
   "cell_type": "code",
   "execution_count": 115,
   "metadata": {},
   "outputs": [
    {
     "name": "stdout",
     "output_type": "stream",
     "text": [
      "        ┌───┐      ░ ┌─┐   \n",
      "   q_0: ┤ H ├──■───░─┤M├───\n",
      "        ├───┤┌─┴─┐ ░ └╥┘┌─┐\n",
      "   q_1: ┤ X ├┤ X ├─░──╫─┤M├\n",
      "        └───┘└───┘ ░  ║ └╥┘\n",
      "meas_0: ══════════════╩══╬═\n",
      "                         ║ \n",
      "meas_1: ═════════════════╩═\n",
      "                           \n"
     ]
    }
   ],
   "source": [
    "qc = QuantumCircuit(2)\n",
    "qc.h(0)\n",
    "qc.x(1)\n",
    "qc.cx(0, 1)\n",
    "\n",
    "counts = qg.utility.get_counts(qc)\n",
    "print(qc)"
   ]
  },
  {
   "cell_type": "code",
   "execution_count": 116,
   "metadata": {},
   "outputs": [
    {
     "name": "stdout",
     "output_type": "stream",
     "text": [
      "[0.49902344]\n"
     ]
    }
   ],
   "source": [
    "output = prob.output(counts)\n",
    "print(output)"
   ]
  },
  {
   "cell_type": "markdown",
   "metadata": {},
   "source": [
    "If we wanted to get the probabilities for each qubit we can pass a list for the `qubits` argument. "
   ]
  },
  {
   "cell_type": "code",
   "execution_count": 118,
   "metadata": {},
   "outputs": [
    {
     "name": "stdout",
     "output_type": "stream",
     "text": [
      "[0.50097656 0.49902344]\n"
     ]
    }
   ],
   "source": [
    "both_prob = qg.Probability(qubits=[0, 1])\n",
    "output = both_prob.output(counts)\n",
    "\n",
    "print(output)"
   ]
  },
  {
   "cell_type": "markdown",
   "metadata": {},
   "source": [
    "If a user is instead interested in getting the probability of being in the $|1\\rangle$ state, they can set the `p_zero` argument to false."
   ]
  },
  {
   "cell_type": "code",
   "execution_count": 119,
   "metadata": {},
   "outputs": [
    {
     "name": "stdout",
     "output_type": "stream",
     "text": [
      "[0.49902344 0.50097656]\n"
     ]
    }
   ],
   "source": [
    "both_prob_one = qg.Probability(qubits=[0, 1], p_zero=False)\n",
    "output = both_prob_one.output(counts)\n",
    "\n",
    "print(output)"
   ]
  },
  {
   "cell_type": "markdown",
   "metadata": {},
   "source": [
    "By default the measurements are with respect to the computational basis. We can use the `Observable` class to measureme \n",
    "with resepect to different bases. We can call the `rotate_basis()` method of the measurement object to rotate space such the basis we wish to measure aligns with the computational basis."
   ]
  },
  {
   "cell_type": "code",
   "execution_count": 128,
   "metadata": {},
   "outputs": [],
   "source": [
    "X_obs = qg.Observable.X()\n",
    "prob_X_basis = qg.Probability(qubits=0, observable=X_obs)"
   ]
  },
  {
   "cell_type": "code",
   "execution_count": 129,
   "metadata": {},
   "outputs": [
    {
     "name": "stdout",
     "output_type": "stream",
     "text": [
      "        ┌───┐┌───┐ ░ ┌─┐\n",
      "   q_0: ┤ H ├┤ H ├─░─┤M├\n",
      "        └───┘└───┘ ░ └╥┘\n",
      "meas_0: ══════════════╩═\n",
      "                        \n"
     ]
    }
   ],
   "source": [
    "qc = QuantumCircuit(1)\n",
    "qc.h(0)\n",
    "prob_X_basis.rotate_basis(qc) # rotate basis of circuit\n",
    "\n",
    "counts = qg.utility.get_counts(qc)\n",
    "\n",
    "print(qc)"
   ]
  },
  {
   "cell_type": "code",
   "execution_count": 130,
   "metadata": {},
   "outputs": [
    {
     "name": "stdout",
     "output_type": "stream",
     "text": [
      "[1.]\n"
     ]
    }
   ],
   "source": [
    "output = prob.output(counts)\n",
    "print(output)"
   ]
  },
  {
   "cell_type": "markdown",
   "metadata": {},
   "source": [
    "Note that we use our measurement object to call `rotate_basis()` to modify the circuit before measurement. The `rotate_basis()` can also be called as a static method of the `Measurement` class."
   ]
  },
  {
   "cell_type": "markdown",
   "metadata": {},
   "source": [
    "### Probability Threshold\n",
    "``` python \n",
    "def __init__(self, qubits, p_zero=True, threshold=0.5, labels=None, observable=None):\n",
    "    \"\"\"\n",
    "    Attributes:\n",
    "    - qubits (int or list): qubit index  or list of qubit indices\n",
    "\n",
    "    - observable (QNN-Gen Observable): The observable corresponding the basis to measure in\n",
    "\n",
    "    - p_zero=True (Boolean): If True, output returns probabilties of qubit being measured in the |0> state.\n",
    "    If false, output returns probabilties of qubit being measured in the |1> state.\n",
    "\n",
    "    - threshold=0.5 (float): Threshold value between 0 and 1.\n",
    "\n",
    "    - labels=None (np.ndarray): The lables to return from output. A 2 element list. labels[0] is the label\n",
    "    corresponding to a probability that execedes the threshold, labels[1] corresponds to the probability\n",
    "    being below the threshold.\n",
    "    \"\"\"\n",
    "```\n",
    "\n",
    "`Probability Threshold` is much like the `Probability` class expect that the qubit probabilities are checked in relation to a threshold value. That label that is outputted is determined by whether the qubit probability is greater than or less than the threshold value.\n",
    "\n",
    "Below, we run an identity circuit. This will result in always measuring the qubit in the $|0\\rangle$ state, which with default arguements for `Probability Threshold` will yield the output label $0$."
   ]
  },
  {
   "cell_type": "code",
   "execution_count": 131,
   "metadata": {},
   "outputs": [
    {
     "name": "stdout",
     "output_type": "stream",
     "text": [
      "        ┌───┐ ░ ┌─┐\n",
      "   q_0: ┤ I ├─░─┤M├\n",
      "        └───┘ ░ └╥┘\n",
      "meas_0: ═════════╩═\n",
      "                   \n"
     ]
    }
   ],
   "source": [
    "qc = QuantumCircuit(1)\n",
    "qc.i(0)\n",
    "counts = qg.utility.get_counts(qc)\n",
    "print(qc)"
   ]
  },
  {
   "cell_type": "code",
   "execution_count": 132,
   "metadata": {},
   "outputs": [
    {
     "name": "stdout",
     "output_type": "stream",
     "text": [
      "[0]\n"
     ]
    }
   ],
   "source": [
    "pt = qg.ProbabilityThreshold(0)\n",
    "output = pt.output(counts)\n",
    "\n",
    "print(output)"
   ]
  },
  {
   "cell_type": "markdown",
   "metadata": {},
   "source": [
    "We could change the default labels to some other values:"
   ]
  },
  {
   "cell_type": "code",
   "execution_count": 133,
   "metadata": {},
   "outputs": [
    {
     "name": "stdout",
     "output_type": "stream",
     "text": [
      "['a']\n"
     ]
    }
   ],
   "source": [
    "labels = np.array(['a', -1])\n",
    "\n",
    "pt = qg.ProbabilityThreshold(0, labels=labels)\n",
    "output = pt.output(counts)\n",
    "\n",
    "print(output)"
   ]
  },
  {
   "cell_type": "markdown",
   "metadata": {},
   "source": [
    "And we can do more complicated mearsurements and outputs:"
   ]
  },
  {
   "cell_type": "code",
   "execution_count": 134,
   "metadata": {},
   "outputs": [],
   "source": [
    "labels = [-1, 1]\n",
    "Y_obs = qg.Observable.Y()\n",
    "\n",
    "pt = qg.ProbabilityThreshold([0, 1], threshold=0.5, labels=labels, observable=Y_obs)"
   ]
  },
  {
   "cell_type": "code",
   "execution_count": 138,
   "metadata": {},
   "outputs": [
    {
     "name": "stdout",
     "output_type": "stream",
     "text": [
      "        ┌───┐┌─────┐┌───┐ ░ ┌─┐   \n",
      "   q_0: ┤ X ├┤ SDG ├┤ H ├─░─┤M├───\n",
      "        ├───┤├─────┤├───┤ ░ └╥┘┌─┐\n",
      "   q_1: ┤ H ├┤ SDG ├┤ H ├─░──╫─┤M├\n",
      "        └───┘└─────┘└───┘ ░  ║ └╥┘\n",
      "meas_0: ═════════════════════╩══╬═\n",
      "                                ║ \n",
      "meas_1: ════════════════════════╩═\n",
      "                                  \n"
     ]
    }
   ],
   "source": [
    "qc = QuantumCircuit(2)\n",
    "qc.x(0)\n",
    "qc.h(1)\n",
    "\n",
    "pt.rotate_basis(qc)\n",
    "counts = qg.utility.get_counts(qc)\n",
    "\n",
    "print(qc)"
   ]
  },
  {
   "cell_type": "code",
   "execution_count": 139,
   "metadata": {},
   "outputs": [
    {
     "name": "stdout",
     "output_type": "stream",
     "text": [
      "{'10': 227, '11': 273, '00': 253, '01': 271}\n",
      "[ 1 -1]\n"
     ]
    }
   ],
   "source": [
    "output = pt.output(counts)\n",
    "\n",
    "print(counts)\n",
    "print(output)"
   ]
  },
  {
   "cell_type": "markdown",
   "metadata": {},
   "source": [
    "### Expectation"
   ]
  },
  {
   "cell_type": "code",
   "execution_count": null,
   "metadata": {},
   "outputs": [],
   "source": []
  },
  {
   "cell_type": "code",
   "execution_count": null,
   "metadata": {},
   "outputs": [],
   "source": []
  }
 ],
 "metadata": {
  "kernelspec": {
   "display_name": "QNN-Gen",
   "language": "python",
   "name": "qnn-gen"
  },
  "language_info": {
   "codemirror_mode": {
    "name": "ipython",
    "version": 3
   },
   "file_extension": ".py",
   "mimetype": "text/x-python",
   "name": "python",
   "nbconvert_exporter": "python",
   "pygments_lexer": "ipython3",
   "version": "3.7.6"
  }
 },
 "nbformat": 4,
 "nbformat_minor": 4
}

{
 "cells": [
  {
   "cell_type": "markdown",
   "metadata": {},
   "source": [
    "# Model Tutorial"
   ]
  },
  {
   "cell_type": "code",
   "execution_count": 1,
   "metadata": {},
   "outputs": [],
   "source": [
    "import qnn_gen as qg\n",
    "import numpy as np"
   ]
  },
  {
   "cell_type": "markdown",
   "metadata": {},
   "source": [
    "\"Model\" is one of the most overloaded words in mathematical fields. One could consider a quantum machine learning \"model\" to mean the end-to-end processes of encoding, choice of gate architecture and parameters, measurement, post-processing, and optimization method. \n",
    "\n",
    "In QNN-Gen, the `Model` class is more restricted. The `Model` class corresponds to various achitectures of gates and ansätze with learnable parameters. Typically, these layers act on a state that has already been encoded. "
   ]
  },
  {
   "cell_type": "markdown",
   "metadata": {},
   "source": [
    "## The Model base class\n",
    "\n",
    "In `model.py` you can find the `Model` base class and serveral implemenatations which derive from the base class. You can see that the derived classes ought to have attributes for `n_qubits` and `parameters`, and must override the `circuit` function. \n",
    "\n",
    "Additionally, the derived classes can override the `default_measurement` function. It is often the case that the choice of model implies which measurements are sensible. Implementing this function allows you to combine and run circuits without explictly passing a `Measurement` object."
   ]
  },
  {
   "cell_type": "code",
   "execution_count": 2,
   "metadata": {},
   "outputs": [],
   "source": [
    "from abc import ABC, abstractmethod\n",
    "\n",
    "class Model(ABC):\n",
    "    \"\"\"\n",
    "    Class to define a QML model, whether it be a particular ansatz or a perceptron model.\n",
    "\n",
    "    Abstract class. Derived classes overwrite circuit() and may overwrite default_measuremnt().\n",
    "    Derived classes should ensure that the self.n_qubits and self.parameters attributes are updated.\n",
    "    \"\"\"\n",
    "\n",
    "    def __init__(self):\n",
    "        self.n_qubits = None\n",
    "        self.parameters = None\n",
    "\n",
    "    @abstractmethod\n",
    "    def circuit():\n",
    "        \"\"\"\n",
    "        Abstract method. Overwrite to return the circuit.\n",
    "\n",
    "        Returns:\n",
    "            - (qiskit.QuantumCircuit): The circuit defined by the model\n",
    "        \"\"\"\n",
    "        pass\n",
    "    \n",
    "    def default_measurement():\n",
    "        \"\"\"\n",
    "        Often, the model implies what measurements are sensible.\n",
    "\n",
    "        Returns:\n",
    "            - (Measurement): The default measurement for the model\n",
    "        \"\"\"\n",
    "\n",
    "        raise NotImplementedError"
   ]
  },
  {
   "cell_type": "markdown",
   "metadata": {},
   "source": [
    "## Model architectures \n",
    "Now we'll go over some of the derived classes:\n",
    "- Tree Tensor Network\n",
    "- Binary Perceptron\n",
    "- Entangled Qubit"
   ]
  },
  {
   "cell_type": "markdown",
   "metadata": {},
   "source": [
    "### Tree Tensor Network\n",
    "\n",
    "A simple way to instantiate a Tree Tensor network:"
   ]
  },
  {
   "cell_type": "code",
   "execution_count": 3,
   "metadata": {},
   "outputs": [
    {
     "name": "stdout",
     "output_type": "stream",
     "text": [
      "None\n",
      "      ┌────────────┐                                                          \n",
      "q_0: ─┤ RY(1.6693) ├──■───────────────────────────────────────────────────────\n",
      "     ┌┴────────────┤┌─┴─┐ ┌────────────┐                                      \n",
      "q_1: ┤ RY(0.34823) ├┤ X ├─┤ RY(2.9183) ├──■───────────────────────────────────\n",
      "     ├─────────────┤└───┘ └────────────┘  │                                   \n",
      "q_2: ┤ RY(0.79874) ├──■───────────────────┼───────────────────────────────────\n",
      "     └┬────────────┤┌─┴─┐ ┌────────────┐┌─┴─┐┌────────────┐                   \n",
      "q_3: ─┤ RY(1.0261) ├┤ X ├─┤ RY(2.6728) ├┤ X ├┤ RY(2.6916) ├──■────────────────\n",
      "      ├───────────┬┘├───┤┌┴────────────┤├───┤├────────────┤┌─┴─┐┌────────────┐\n",
      "q_4: ─┤ RY(1.666) ├─┤ X ├┤ RY(0.46207) ├┤ X ├┤ RY(1.9797) ├┤ X ├┤ RY(1.2324) ├\n",
      "      ├───────────┴┐└─┬─┘└─────────────┘└─┬─┘└────────────┘└───┘└────────────┘\n",
      "q_5: ─┤ RY(2.7564) ├──■───────────────────┼───────────────────────────────────\n",
      "      └┬──────────┬┘┌───┐ ┌────────────┐  │                                   \n",
      "q_6: ──┤ RY(1.44) ├─┤ X ├─┤ RY(2.0277) ├──■───────────────────────────────────\n",
      "      ┌┴──────────┴┐└─┬─┘ └────────────┘                                      \n",
      "q_7: ─┤ RY(2.6881) ├──■───────────────────────────────────────────────────────\n",
      "      └────────────┘                                                          \n",
      "[1.66926713 0.34823465 0.79874408 1.02607996 1.66596135 2.75641036\n",
      " 1.44004296 2.68809581 2.91827493 2.67284135 0.46206708 2.02766657\n",
      " 2.69158449 1.97967066 1.23235531]\n"
     ]
    }
   ],
   "source": [
    "ttn = qg.TreeTensorNetwork(n_qubits=8)\n",
    "ttn_circuit = ttn.circuit()\n",
    "\n",
    "print(ttn_circuit)\n",
    "print(ttn.parameters)"
   ]
  },
  {
   "cell_type": "markdown",
   "metadata": {},
   "source": [
    "If you don't pass arugments for the parameters of the rotation gates, they are randomly initialized. You may specificy them explictly using the `angles` argument:"
   ]
  },
  {
   "cell_type": "code",
   "execution_count": 4,
   "metadata": {},
   "outputs": [
    {
     "name": "stdout",
     "output_type": "stream",
     "text": [
      "[ 0  1  2  3  4  5  6  7  8  9 10 11 12 13 14]\n",
      "     ┌───────┐                                             \n",
      "q_0: ┤ RY(0) ├──■──────────────────────────────────────────\n",
      "     ├───────┤┌─┴─┐┌───────┐                               \n",
      "q_1: ┤ RY(1) ├┤ X ├┤ RY(8) ├───■───────────────────────────\n",
      "     ├───────┤└───┘└───────┘   │                           \n",
      "q_2: ┤ RY(2) ├──■──────────────┼───────────────────────────\n",
      "     ├───────┤┌─┴─┐┌───────┐ ┌─┴─┐┌────────┐               \n",
      "q_3: ┤ RY(3) ├┤ X ├┤ RY(9) ├─┤ X ├┤ RY(12) ├──■────────────\n",
      "     ├───────┤├───┤├───────┴┐├───┤├────────┤┌─┴─┐┌────────┐\n",
      "q_4: ┤ RY(4) ├┤ X ├┤ RY(10) ├┤ X ├┤ RY(13) ├┤ X ├┤ RY(14) ├\n",
      "     ├───────┤└─┬─┘└────────┘└─┬─┘└────────┘└───┘└────────┘\n",
      "q_5: ┤ RY(5) ├──■──────────────┼───────────────────────────\n",
      "     ├───────┤┌───┐┌────────┐  │                           \n",
      "q_6: ┤ RY(6) ├┤ X ├┤ RY(11) ├──■───────────────────────────\n",
      "     ├───────┤└─┬─┘└────────┘                              \n",
      "q_7: ┤ RY(7) ├──■──────────────────────────────────────────\n",
      "     └───────┘                                             \n",
      "[ 0  1  2  3  4  5  6  7  8  9 10 11 12 13 14]\n"
     ]
    }
   ],
   "source": [
    "angles = np.arange(0, 15)\n",
    "\n",
    "ttn1 = qg.TreeTensorNetwork(n_qubits=8, angles=angles)\n",
    "ttn_circuit1 = ttn1.circuit()\n",
    "\n",
    "print(ttn_circuit1)\n",
    "print(ttn1.parameters)"
   ]
  },
  {
   "cell_type": "markdown",
   "metadata": {},
   "source": [
    "User also may change the rotation gate and the entangling gate from their default values of `RY` and `CX`. For example, with the help of the `Gate` class in `utility.py`, a Tree Tensor Network with `RX` as the roation gate and a `CZ` as the two qubit gate:"
   ]
  },
  {
   "cell_type": "code",
   "execution_count": 5,
   "metadata": {},
   "outputs": [
    {
     "name": "stdout",
     "output_type": "stream",
     "text": [
      "[ 0  1  2  3  4  5  6  7  8  9 10 11 12 13 14]\n",
      "     ┌───────┐                                       \n",
      "q_0: ┤ RX(0) ├─■─────────────────────────────────────\n",
      "     ├───────┤ │ ┌───────┐                           \n",
      "q_1: ┤ RX(1) ├─■─┤ RX(8) ├──■────────────────────────\n",
      "     ├───────┤   └───────┘  │                        \n",
      "q_2: ┤ RX(2) ├─■────────────┼────────────────────────\n",
      "     ├───────┤ │ ┌───────┐  │ ┌────────┐             \n",
      "q_3: ┤ RX(3) ├─■─┤ RX(9) ├──■─┤ RX(12) ├─■───────────\n",
      "     ├───────┤   ├───────┴┐   ├────────┤ │ ┌────────┐\n",
      "q_4: ┤ RX(4) ├─■─┤ RX(10) ├─■─┤ RX(13) ├─■─┤ RX(14) ├\n",
      "     ├───────┤ │ └────────┘ │ └────────┘   └────────┘\n",
      "q_5: ┤ RX(5) ├─■────────────┼────────────────────────\n",
      "     ├───────┤   ┌────────┐ │                        \n",
      "q_6: ┤ RX(6) ├─■─┤ RX(11) ├─■────────────────────────\n",
      "     ├───────┤ │ └────────┘                          \n",
      "q_7: ┤ RX(7) ├─■─────────────────────────────────────\n",
      "     └───────┘                                       \n"
     ]
    }
   ],
   "source": [
    "ttn = qg.TreeTensorNetwork(n_qubits=8,\n",
    "                           angles=angles, \n",
    "                           rotation_gate=qg.Gate.RX, \n",
    "                           entangling_gate=qg.Gate.CZ)\n",
    "ttn_circuit = ttn.circuit()\n",
    "\n",
    "print(ttn_circuit)"
   ]
  },
  {
   "cell_type": "markdown",
   "metadata": {},
   "source": [
    "### Binary Perceptron\n",
    "\n",
    "This is an example of a perceptron-based model. It encodes binary input and weight vectors, $\\vec{i}$, $\\vec{w}$ $\\in \\{1, −1\\}^{2^N}$ into a quantum state of N qubits. The learning objective is to construct the sequence of gates which encodes the right weight vector for the binary function you wish to learn.\n",
    "\n",
    "In QNN-Gen we base this algorithm using the sign-flip method which is defined defined\n",
    "in [*] in the following steps:\n",
    "\n",
    "1. Apply a full layer of H gates on all N qubits, each in the starting state $|0\\rangle$.\n",
    "\n",
    "2. Use the sign-flip method to encode the input $\\vec{i}$\n",
    "\n",
    "3. Use the sign-flip method to encode the weight vectors $\\vec{w}$.\n",
    "\n",
    "4. Apply a full layer of $H$ gates.\n",
    "\n",
    "5. Apply a full layer of $X$ gates.\n",
    "\n",
    "6. Apply a $C^X$ operation with the target on an ancillary qubit.\n",
    "\n",
    "The Binary Peceptron model generates the circuit that enacts step 3 and on."
   ]
  },
  {
   "cell_type": "code",
   "execution_count": 6,
   "metadata": {},
   "outputs": [
    {
     "name": "stdout",
     "output_type": "stream",
     "text": [
      "     ┌───┐   ┌───┐┌───┐   ┌───┐        ┌───┐        ┌───┐        ┌───┐        »\n",
      "q_0: ┤ X ├─■─┤ X ├┤ X ├─■─┤ X ├──────■─┤ X ├──────■─┤ X ├──────■─┤ X ├──────■─»\n",
      "     ├───┤ │ ├───┤└───┘ │ ├───┤      │ ├───┤┌───┐ │ ├───┤┌───┐ │ ├───┤┌───┐ │ »\n",
      "q_1: ┤ X ├─■─┤ X ├──────■─┤ X ├──────■─┤ X ├┤ X ├─■─┤ X ├┤ X ├─■─┤ X ├┤ X ├─■─»\n",
      "     ├───┤ │ ├───┤┌───┐ │ ├───┤      │ ├───┤└───┘ │ ├───┤├───┤ │ ├───┤└───┘ │ »\n",
      "q_2: ┤ X ├─■─┤ X ├┤ X ├─■─┤ X ├──────■─┤ X ├──────■─┤ X ├┤ X ├─■─┤ X ├──────■─»\n",
      "     ├───┤ │ ├───┤├───┤ │ ├───┤┌───┐ │ ├───┤      │ └───┘└───┘ │ └───┘      │ »\n",
      "q_3: ┤ X ├─■─┤ X ├┤ X ├─■─┤ X ├┤ X ├─■─┤ X ├──────■────────────■────────────■─»\n",
      "     └───┘   └───┘└───┘   └───┘└───┘   └───┘                                  »\n",
      "q_4: ─────────────────────────────────────────────────────────────────────────»\n",
      "                                                                              »\n",
      "«     ┌───┐        ┌───┐┌───┐          \n",
      "«q_0: ┤ X ├──────■─┤ H ├┤ X ├───────■──\n",
      "«     ├───┤┌───┐ │ ├───┤├───┤┌───┐  │  \n",
      "«q_1: ┤ X ├┤ X ├─■─┤ X ├┤ H ├┤ X ├──■──\n",
      "«     └───┘└───┘ │ ├───┤├───┤└───┘  │  \n",
      "«q_2: ───────────■─┤ H ├┤ X ├───────■──\n",
      "«                │ ├───┤├───┤       │  \n",
      "«q_3: ───────────■─┤ H ├┤ X ├───────■──\n",
      "«                  └───┘└───┘     ┌─┴─┐\n",
      "«q_4: ────────────────────────────┤ X ├\n",
      "«                                 └───┘\n",
      "[-1  1 -1  1  1 -1  1  1 -1 -1  1  1 -1 -1  1  1]\n"
     ]
    }
   ],
   "source": [
    "bp = qg.BinaryPerceptron(n_qubits=4)\n",
    "bp_circuit = bp.circuit()\n",
    "\n",
    "print(bp_circuit)\n",
    "print(bp.parameters)"
   ]
  },
  {
   "cell_type": "markdown",
   "metadata": {},
   "source": [
    "Again, you may specify the starting weights explictly."
   ]
  },
  {
   "cell_type": "code",
   "execution_count": 7,
   "metadata": {},
   "outputs": [
    {
     "name": "stdout",
     "output_type": "stream",
     "text": [
      "             ┌───┐┌───┐          \n",
      "q_0: ──────■─┤ H ├┤ X ├───────■──\n",
      "     ┌───┐ │ ├───┤├───┤┌───┐  │  \n",
      "q_1: ┤ X ├─■─┤ X ├┤ H ├┤ X ├──■──\n",
      "     └───┘   └───┘└───┘└───┘┌─┴─┐\n",
      "q_2: ───────────────────────┤ X ├\n",
      "                            └───┘\n",
      "[ 1 -1]\n"
     ]
    }
   ],
   "source": [
    "w = np.array([1, -1])\n",
    "bp1 = qg.BinaryPerceptron(n_qubits=2, weights=w)\n",
    "bp_circuit1 = bp1.circuit()\n",
    "\n",
    "print(bp_circuit1)\n",
    "print(bp1.parameters)"
   ]
  },
  {
   "cell_type": "markdown",
   "metadata": {},
   "source": [
    "### Entangled Qubit\n",
    "\n",
    "This model comes from [*] and was used by the authors to classify MNIST data. The idea is that two-qubit gates connect a particular qubit to be measured with all other qubits."
   ]
  },
  {
   "cell_type": "code",
   "execution_count": 8,
   "metadata": {},
   "outputs": [
    {
     "name": "stdout",
     "output_type": "stream",
     "text": [
      "     ┌──────────────┐┌──────────────┐┌──────────────┐┌──────────────┐»\n",
      "q_0: ┤0             ├┤0             ├┤0             ├┤0             ├»\n",
      "     │  RXX(2.1182) ││              ││              ││              │»\n",
      "q_1: ┤1             ├┤  RXX(6.2813) ├┤              ├┤              ├»\n",
      "     └──────────────┘│              ││  RXX(1.9713) ││              │»\n",
      "q_2: ────────────────┤1             ├┤              ├┤  RXX(1.0888) ├»\n",
      "                     └──────────────┘│              ││              │»\n",
      "q_3: ────────────────────────────────┤1             ├┤              ├»\n",
      "                                     └──────────────┘│              │»\n",
      "q_4: ────────────────────────────────────────────────┤1             ├»\n",
      "                                                     └──────────────┘»\n",
      "«     ┌──────────────┐┌──────────────┐┌───────────────┐┌───────────────┐\n",
      "«q_0: ┤0             ├┤0             ├┤0              ├┤0              ├\n",
      "«     │  RZX(1.9164) ││              ││               ││               │\n",
      "«q_1: ┤1             ├┤  RZX(2.1392) ├┤               ├┤               ├\n",
      "«     └──────────────┘│              ││  RZX(0.80527) ││               │\n",
      "«q_2: ────────────────┤1             ├┤               ├┤  RZX(0.48283) ├\n",
      "«                     └──────────────┘│               ││               │\n",
      "«q_3: ────────────────────────────────┤1              ├┤               ├\n",
      "«                                     └───────────────┘│               │\n",
      "«q_4: ─────────────────────────────────────────────────┤1              ├\n",
      "«                                                      └───────────────┘\n",
      "[2.11816251 6.2812925  1.97133464 1.08878922 1.91635101 2.13918534\n",
      " 0.80526657 0.48282933]\n"
     ]
    }
   ],
   "source": [
    "et = qg.EntangledQubit(n_qubits=5)\n",
    "et_circuit = et.circuit()\n",
    "\n",
    "print(et_circuit)\n",
    "print(et.parameters)"
   ]
  },
  {
   "cell_type": "markdown",
   "metadata": {},
   "source": [
    "In the entangled qubit model you can specify the gate set and the number of layers. The default `gate_set` is [`RXX`, `RZX`], and the default number of layers, `n_layers`, is $2$. The algorithm loops through the `gate_set` for the specified number of layers, repeating at the beginning if `n_layers` is greater than the number of gates in the gate set.\n",
    "\n",
    "\n",
    "Here's an example with $3$ qubits, a gate set of [`RYY`, `RZZ`], and with $3$ layers."
   ]
  },
  {
   "cell_type": "code",
   "execution_count": 9,
   "metadata": {},
   "outputs": [
    {
     "name": "stdout",
     "output_type": "stream",
     "text": [
      "     ┌───────────────┐┌──────────────┐                           »\n",
      "q_0: ┤0              ├┤0             ├─■────────────■────────────»\n",
      "     │  RYY(0.70385) ││              │ │zz(4.4103)  │            »\n",
      "q_1: ┤1              ├┤  RYY(3.7201) ├─■────────────┼────────────»\n",
      "     └───────────────┘│              │              │zz(0.25103) »\n",
      "q_2: ─────────────────┤1             ├──────────────■────────────»\n",
      "                      └──────────────┘                           »\n",
      "«     ┌──────────────┐┌──────────────┐\n",
      "«q_0: ┤0             ├┤0             ├\n",
      "«     │  RYY(1.8325) ││              │\n",
      "«q_1: ┤1             ├┤  RYY(2.6274) ├\n",
      "«     └──────────────┘│              │\n",
      "«q_2: ────────────────┤1             ├\n",
      "«                     └──────────────┘\n",
      "[0.70384597 3.72011248 4.41033538 0.25102793 1.83246804 2.62739117]\n"
     ]
    }
   ],
   "source": [
    "et1 = qg.EntangledQubit(n_qubits=3, n_layers=3, gate_set=[qg.Gate.RYY, qg.Gate.RZZ])\n",
    "et_circuit1 = et1.circuit()\n",
    "\n",
    "print(et_circuit1)\n",
    "print(et1.parameters)"
   ]
  },
  {
   "cell_type": "markdown",
   "metadata": {},
   "source": [
    "## Default Measurements\n",
    "\n",
    "Each of the derived classes implement the function `default_measurement()`. We'll go over these measurement objects in the \"Measurement and Observables\" tutorial."
   ]
  },
  {
   "cell_type": "code",
   "execution_count": 10,
   "metadata": {},
   "outputs": [
    {
     "name": "stdout",
     "output_type": "stream",
     "text": [
      "<qnn_gen.measurement.Expectation object at 0x000002B7A035E988>\n",
      "<qnn_gen.measurement.ProbabilityThreshold object at 0x000002B7A035EB88>\n",
      "<qnn_gen.measurement.Expectation object at 0x000002B7A035E788>\n"
     ]
    }
   ],
   "source": [
    "print(ttn.default_measurement())\n",
    "print(bp.default_measurement())\n",
    "print(et.default_measurement())"
   ]
  },
  {
   "cell_type": "code",
   "execution_count": null,
   "metadata": {},
   "outputs": [],
   "source": []
  }
 ],
 "metadata": {
  "kernelspec": {
   "display_name": "QNN-Gen",
   "language": "python",
   "name": "qnn-gen"
  },
  "language_info": {
   "codemirror_mode": {
    "name": "ipython",
    "version": 3
   },
   "file_extension": ".py",
   "mimetype": "text/x-python",
   "name": "python",
   "nbconvert_exporter": "python",
   "pygments_lexer": "ipython3",
   "version": "3.7.6"
  }
 },
 "nbformat": 4,
 "nbformat_minor": 2
}

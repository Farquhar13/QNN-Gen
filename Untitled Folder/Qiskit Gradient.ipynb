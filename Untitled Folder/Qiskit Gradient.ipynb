{
 "cells": [
  {
   "cell_type": "code",
   "execution_count": 2,
   "metadata": {},
   "outputs": [],
   "source": [
    "#General imports\n",
    "import numpy as np\n",
    "\n",
    "#Operator Imports\n",
    "from qiskit.aqua.operators import Z, X, I, StateFn, CircuitStateFn, SummedOp\n",
    "from qiskit.aqua.operators.gradients import Gradient, NaturalGradient, QFI, Hessian\n",
    "\n",
    "#Circuit imports\n",
    "from qiskit.circuit import QuantumCircuit, QuantumRegister, Parameter, ParameterVector, ParameterExpression\n",
    "from qiskit.circuit.library import EfficientSU2"
   ]
  },
  {
   "cell_type": "code",
   "execution_count": 48,
   "metadata": {},
   "outputs": [
    {
     "name": "stdout",
     "output_type": "stream",
     "text": [
      "ComposedOp([\n",
      "  OperatorMeasurement(SummedOp([\n",
      "    0.5 * X,\n",
      "    -1.0 * Z\n",
      "  ])),\n",
      "  CircuitStateFn(\n",
      "         ┌───┐┌───────┐┌───────┐\n",
      "  q90_0: ┤ H ├┤ RZ(a) ├┤ RX(b) ├\n",
      "         └───┘└───────┘└───────┘\n",
      "  )\n",
      "])\n"
     ]
    }
   ],
   "source": [
    "# Define the Hamiltonian with fixed coefficients\n",
    "H = 0.5 * X - 1 * Z\n",
    "# Define the parameters w.r.t. we want to compute the gradients\n",
    "params = [a, b]\n",
    "# Define the values to be assigned to the parameters\n",
    "value_dict = { a: np.pi, b: np.pi}\n",
    "\n",
    "# Combine the Hamiltonian observable and the state into an expectation value operator\n",
    "op = ~StateFn(H) @ CircuitStateFn(primitive=qc, coeff=1.)\n",
    "print(op)"
   ]
  },
  {
   "cell_type": "code",
   "execution_count": 49,
   "metadata": {},
   "outputs": [
    {
     "name": "stdout",
     "output_type": "stream",
     "text": [
      "ListOp([\n",
      "  SummedOp([\n",
      "    0.25 * ComposedOp([\n",
      "      OperatorMeasurement(Z),\n",
      "      CircuitStateFn(\n",
      "             ┌───┐┌─────────────────────────┐┌───────┐┌───┐\n",
      "      q90_0: ┤ H ├┤ RZ(a + 1.5707963267949) ├┤ RX(b) ├┤ H ├\n",
      "             └───┘└─────────────────────────┘└───────┘└───┘\n",
      "      )\n",
      "    ]),\n",
      "    -0.25 * ComposedOp([\n",
      "      OperatorMeasurement(Z),\n",
      "      CircuitStateFn(\n",
      "             ┌───┐┌─────────────────────────┐┌───────┐┌───┐\n",
      "      q90_0: ┤ H ├┤ RZ(a - 1.5707963267949) ├┤ RX(b) ├┤ H ├\n",
      "             └───┘└─────────────────────────┘└───────┘└───┘\n",
      "      )\n",
      "    ]),\n",
      "    -0.5 * ComposedOp([\n",
      "      OperatorMeasurement(Z),\n",
      "      CircuitStateFn(\n",
      "             ┌───┐┌─────────────────────────┐┌───────┐\n",
      "      q90_0: ┤ H ├┤ RZ(a + 1.5707963267949) ├┤ RX(b) ├\n",
      "             └───┘└─────────────────────────┘└───────┘\n",
      "      )\n",
      "    ]),\n",
      "    0.5 * ComposedOp([\n",
      "      OperatorMeasurement(Z),\n",
      "      CircuitStateFn(\n",
      "             ┌───┐┌─────────────────────────┐┌───────┐\n",
      "      q90_0: ┤ H ├┤ RZ(a - 1.5707963267949) ├┤ RX(b) ├\n",
      "             └───┘└─────────────────────────┘└───────┘\n",
      "      )\n",
      "    ])\n",
      "  ]),\n",
      "  SummedOp([\n",
      "    0.25 * ComposedOp([\n",
      "      OperatorMeasurement(Z),\n",
      "      CircuitStateFn(\n",
      "             ┌───┐┌───────┐┌─────────────────────────┐┌───┐\n",
      "      q90_0: ┤ H ├┤ RZ(a) ├┤ RX(b + 1.5707963267949) ├┤ H ├\n",
      "             └───┘└───────┘└─────────────────────────┘└───┘\n",
      "      )\n",
      "    ]),\n",
      "    -0.25 * ComposedOp([\n",
      "      OperatorMeasurement(Z),\n",
      "      CircuitStateFn(\n",
      "             ┌───┐┌───────┐┌─────────────────────────┐┌───┐\n",
      "      q90_0: ┤ H ├┤ RZ(a) ├┤ RX(b - 1.5707963267949) ├┤ H ├\n",
      "             └───┘└───────┘└─────────────────────────┘└───┘\n",
      "      )\n",
      "    ]),\n",
      "    -0.5 * ComposedOp([\n",
      "      OperatorMeasurement(Z),\n",
      "      CircuitStateFn(\n",
      "             ┌───┐┌───────┐┌─────────────────────────┐\n",
      "      q90_0: ┤ H ├┤ RZ(a) ├┤ RX(b + 1.5707963267949) ├\n",
      "             └───┘└───────┘└─────────────────────────┘\n",
      "      )\n",
      "    ]),\n",
      "    0.5 * ComposedOp([\n",
      "      OperatorMeasurement(Z),\n",
      "      CircuitStateFn(\n",
      "             ┌───┐┌───────┐┌─────────────────────────┐\n",
      "      q90_0: ┤ H ├┤ RZ(a) ├┤ RX(b - 1.5707963267949) ├\n",
      "             └───┘└───────┘└─────────────────────────┘\n",
      "      )\n",
      "    ])\n",
      "  ])\n",
      "])\n",
      "State gradient computed with parameter shift [0j, (5.551115123125783e-17+0j)]\n"
     ]
    }
   ],
   "source": [
    "# Convert the expectation value into an operator corresponding to the gradient w.r.t. the state parameters using\n",
    "# the parameter shift method.\n",
    "state_grad = Gradient(grad_method='param_shift').convert(operator=op, params=params)\n",
    "# Print the operator corresponding to the gradient\n",
    "print(state_grad)\n",
    "# Assign the parameters and evaluate the gradient\n",
    "state_grad_result = state_grad.assign_parameters(value_dict).eval()\n",
    "print('State gradient computed with parameter shift', state_grad_result)"
   ]
  },
  {
   "cell_type": "code",
   "execution_count": null,
   "metadata": {},
   "outputs": [],
   "source": []
  },
  {
   "cell_type": "code",
   "execution_count": null,
   "metadata": {},
   "outputs": [],
   "source": []
  }
 ],
 "metadata": {
  "kernelspec": {
   "display_name": "QNN-Gen",
   "language": "python",
   "name": "qnn-gen"
  },
  "language_info": {
   "codemirror_mode": {
    "name": "ipython",
    "version": 3
   },
   "file_extension": ".py",
   "mimetype": "text/x-python",
   "name": "python",
   "nbconvert_exporter": "python",
   "pygments_lexer": "ipython3",
   "version": "3.7.6"
  }
 },
 "nbformat": 4,
 "nbformat_minor": 4
}

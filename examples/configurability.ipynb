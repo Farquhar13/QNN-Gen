{
 "cells": [
  {
   "cell_type": "markdown",
   "metadata": {},
   "source": [
    "Example to demonstrate how modeling decisions can be implemented by passing\n",
    "arguments to overwride default values for class attributes.\n",
    "\n",
    "This code implements\n",
    "- A Binary Phase **encoding** with an ancillary qubit\n",
    "- A Binary Perceptron **model** with specified starting weights\n",
    "- A Probability Threshold **measurement** that measures qubit 2, and returns the lablel \"1\" if the qubit is measured in |1> state with probability greater that 0.3, and \"-1\" otherwise. The measurement is performed with respect to the obsevable Pauli X."
   ]
  },
  {
   "cell_type": "code",
   "execution_count": 1,
   "metadata": {},
   "outputs": [],
   "source": [
    "import qnn_gen as qg\n",
    "import numpy as np"
   ]
  },
  {
   "cell_type": "code",
   "execution_count": 2,
   "metadata": {},
   "outputs": [],
   "source": [
    "x = np.array([-1, 1, 1, -1])\n",
    "weights = np.array([1, -1, 1, -1])"
   ]
  },
  {
   "cell_type": "code",
   "execution_count": 3,
   "metadata": {},
   "outputs": [
    {
     "name": "stdout",
     "output_type": "stream",
     "text": [
      "      ┌───┐┌───┐   ┌───┐                   ┌───┐┌───┐             \n",
      " q_0: ┤ H ├┤ X ├─■─┤ X ├─■───────■───────■─┤ H ├┤ X ├──■──────────\n",
      "      ├───┤├───┤ │ ├───┤ │ ┌───┐ │ ┌───┐ │ ├───┤├───┤  │          \n",
      " q_1: ┤ H ├┤ X ├─■─┤ X ├─■─┤ X ├─■─┤ X ├─■─┤ H ├┤ X ├──■──────────\n",
      "      └───┘└───┘   └───┘   └───┘   └───┘   └───┘└───┘┌─┴─┐┌───┐┌─┐\n",
      " q_2: ───────────────────────────────────────────────┤ X ├┤ H ├┤M├\n",
      "                                                     └───┘└───┘└╥┘\n",
      "c0_0: ══════════════════════════════════════════════════════════╩═\n",
      "                                                                  \n"
     ]
    }
   ],
   "source": [
    "encoder = qg.BinaryPhaseEncoding(ancilla=True)\n",
    "model = qg.BinaryPerceptron(weights=weights)\n",
    "measurement = qg.ProbabilityThreshold(qubits=2,\n",
    "                                      p_zero=False,\n",
    "                                      threshold=0.3,\n",
    "                                      labels=[1, -1],\n",
    "                                      observable=qg.Observable.X())\n",
    "\n",
    "full_circuit = qg.combine(x, encoder, model, measurement)\n",
    "print(full_circuit)"
   ]
  },
  {
   "cell_type": "code",
   "execution_count": 4,
   "metadata": {},
   "outputs": [
    {
     "name": "stdout",
     "output_type": "stream",
     "text": [
      "[1]\n"
     ]
    }
   ],
   "source": [
    "result = qg.run(x, encoder, model, measurement)\n",
    "print(result)"
   ]
  }
 ],
 "metadata": {
  "kernelspec": {
   "display_name": "QNN-Gen",
   "language": "python",
   "name": "qnn-gen"
  },
  "language_info": {
   "codemirror_mode": {
    "name": "ipython",
    "version": 3
   },
   "file_extension": ".py",
   "mimetype": "text/x-python",
   "name": "python",
   "nbconvert_exporter": "python",
   "pygments_lexer": "ipython3",
   "version": "3.7.6"
  }
 },
 "nbformat": 4,
 "nbformat_minor": 4
}

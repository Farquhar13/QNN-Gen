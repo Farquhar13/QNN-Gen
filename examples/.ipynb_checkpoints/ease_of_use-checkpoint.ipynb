{
 "cells": [
  {
   "cell_type": "markdown",
   "metadata": {},
   "source": [
    "An example to illustrate ease-of-use.\n",
    "\n",
    "Generate a Quantum Neural Network in just a few lines of code.\n",
    "\n",
    "This code implements:\n",
    "- A Dense Angle **encoding**\n",
    "- An Entangled Qubit **model** initialized with random angles (parameters)\n",
    "- Since no **measurement** is passed to `qg.combine` the `default_measurement()` of `EntangledQubit` is called. The default measurement corresponds to measuring the Expectation of the Z observable."
   ]
  },
  {
   "cell_type": "code",
   "execution_count": 1,
   "metadata": {},
   "outputs": [],
   "source": [
    "import qnn_gen as qg\n",
    "import numpy as np"
   ]
  },
  {
   "cell_type": "code",
   "execution_count": 2,
   "metadata": {},
   "outputs": [],
   "source": [
    "x = np.random.rand(8)"
   ]
  },
  {
   "cell_type": "code",
   "execution_count": 3,
   "metadata": {},
   "outputs": [
    {
     "name": "stdout",
     "output_type": "stream",
     "text": [
      "      ┌──────────────┐ ┌────────────┐┌──────────────┐┌──────────────┐»\n",
      " q_0: ┤ RY(0.093723) ├─┤ U1(4.3486) ├┤0             ├┤0             ├»\n",
      "      └┬────────────┬┘ ├────────────┤│  RXX(1.0494) ││              │»\n",
      " q_1: ─┤ RY(1.3304) ├──┤ U1(5.0719) ├┤1             ├┤  RXX(4.2921) ├»\n",
      "       ├────────────┤ ┌┴────────────┤└──────────────┘│              │»\n",
      " q_2: ─┤ RY(2.7414) ├─┤ U1(0.48921) ├────────────────┤1             ├»\n",
      "       ├────────────┤ └┬────────────┤                └──────────────┘»\n",
      " q_3: ─┤ RY(1.7621) ├──┤ U1(5.6124) ├────────────────────────────────»\n",
      "       └────────────┘  └────────────┘                                »\n",
      "c0_0: ═══════════════════════════════════════════════════════════════»\n",
      "                                                                     »\n",
      "«      ┌───────────────┐┌──────────────┐┌──────────────┐┌─────────────┐»\n",
      "« q_0: ┤0              ├┤0             ├┤0             ├┤0            ├»\n",
      "«      │               ││  RZX(4.5524) ││              ││             │»\n",
      "« q_1: ┤               ├┤1             ├┤  RZX(5.4664) ├┤             ├»\n",
      "«      │  RXX(0.95149) │└──────────────┘│              ││  RZX(6.115) │»\n",
      "« q_2: ┤               ├────────────────┤1             ├┤             ├»\n",
      "«      │               │                └──────────────┘│             │»\n",
      "« q_3: ┤1              ├────────────────────────────────┤1            ├»\n",
      "«      └───────────────┘                                └─────────────┘»\n",
      "«c0_0: ════════════════════════════════════════════════════════════════»\n",
      "«                                                                      »\n",
      "«      ┌──────────────┐┌──────────────┐┌──────────────┐┌─────┐┌───┐┌─┐\n",
      "« q_0: ┤0             ├┤0             ├┤0             ├┤ SDG ├┤ H ├┤M├\n",
      "«      │  RXX(1.3775) ││              ││              │└─────┘└───┘└╥┘\n",
      "« q_1: ┤1             ├┤  RXX(3.6879) ├┤              ├─────────────╫─\n",
      "«      └──────────────┘│              ││  RXX(3.6061) │             ║ \n",
      "« q_2: ────────────────┤1             ├┤              ├─────────────╫─\n",
      "«                      └──────────────┘│              │             ║ \n",
      "« q_3: ────────────────────────────────┤1             ├─────────────╫─\n",
      "«                                      └──────────────┘             ║ \n",
      "«c0_0: ═════════════════════════════════════════════════════════════╩═\n",
      "«                                                                     \n"
     ]
    }
   ],
   "source": [
    "encoder = qg.DenseAngleEncoding()\n",
    "model = qg.EntangledQubit()\n",
    "full_circuit = qg.combine(x, encoder, model)\n",
    "\n",
    "print(full_circuit)"
   ]
  },
  {
   "cell_type": "code",
   "execution_count": 4,
   "metadata": {},
   "outputs": [
    {
     "name": "stdout",
     "output_type": "stream",
     "text": [
      "[-0.08398438]\n"
     ]
    }
   ],
   "source": [
    "result = qg.run(x, encoder, model)\n",
    "print(result)"
   ]
  },
  {
   "cell_type": "code",
   "execution_count": null,
   "metadata": {},
   "outputs": [],
   "source": []
  }
 ],
 "metadata": {
  "kernelspec": {
   "display_name": "QNN-Gen",
   "language": "python",
   "name": "qnn-gen"
  },
  "language_info": {
   "codemirror_mode": {
    "name": "ipython",
    "version": 3
   },
   "file_extension": ".py",
   "mimetype": "text/x-python",
   "name": "python",
   "nbconvert_exporter": "python",
   "pygments_lexer": "ipython3",
   "version": "3.7.6"
  }
 },
 "nbformat": 4,
 "nbformat_minor": 4
}
